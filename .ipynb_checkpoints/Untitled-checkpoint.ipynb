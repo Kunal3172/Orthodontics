{
 "cells": [
  {
   "cell_type": "code",
   "execution_count": 5,
   "id": "870e05d0",
   "metadata": {},
   "outputs": [],
   "source": [
    "import gradio as gr\n",
    "import torch\n",
    "from ultralytics import YOLO\n",
    "from PIL import Image"
   ]
  },
  {
   "cell_type": "code",
   "execution_count": 6,
   "id": "a94babe2",
   "metadata": {},
   "outputs": [],
   "source": [
    "def predict_dental_disease(image):\n",
    "    \"\"\"Loads the trained YOLO model and predicts dental disease on the given X-ray image.\"\"\"\n",
    "    model = YOLO(\"runs/detect/train/weights/best.pt\")  # Load trained model\n",
    "    results = model(image)  # Run inference\n",
    "    \n",
    "    # Get the annotated image without saving it\n",
    "    annotated_image = results[0].plot()  # Get the image with detections\n",
    "    return Image.fromarray(annotated_image)  # Return the processed image\n"
   ]
  },
  {
   "cell_type": "code",
   "execution_count": 53,
   "id": "616bad37",
   "metadata": {},
   "outputs": [],
   "source": [
    "\n",
    "\n",
    "# Define Gradio Interface\n",
    "with gr.Blocks() as iface:\n",
    "    gr.HTML(\"\"\"\n",
    "    <style>\n",
    "        @import url('https://fonts.googleapis.com/css2?family=Poppins:wght@300;400;600&display=swap');\n",
    "\n",
    "        body {\n",
    "            font-family: 'Poppins', sans-serif;\n",
    "            background-size: cover;\n",
    "            background-position: center;\n",
    "            background-attachment: fixed;\n",
    "            color: black;\n",
    "            text-align: center;\n",
    "        }\n",
    "        \n",
    "        .overlay {\n",
    "            position: absolute;\n",
    "            width: 100%;\n",
    "            height: 100%;\n",
    "            background: rgba(0, 0, 0, 0.5); /* Dark overlay for contrast */\n",
    "        }\n",
    "\n",
    "        .gradio-container {\n",
    "            text-align: center;\n",
    "            padding: 30px;\n",
    "            background: rgba(255, 255, 255, 0.9);\n",
    "            border-radius: 15px;\n",
    "            box-shadow: 0px 4px 15px rgba(0, 0, 0, 0.3);\n",
    "            border: 3px solid black; /* Black border */\n",
    "            position: relative;\n",
    "            z-index: 1;\n",
    "        }\n",
    "        \n",
    "        h1 {\n",
    "            font-size: 3em;\n",
    "            font-weight: 600;\n",
    "            color: #ff4b2b;\n",
    "            text-shadow: 2px 2px 8px rgba(0, 0, 0, 0.2);\n",
    "        }\n",
    "        \n",
    "        p {\n",
    "            color: #333;\n",
    "            font-size: 1.3em;\n",
    "            font-weight: 400;\n",
    "        }\n",
    "        \n",
    "        .gr-button {\n",
    "            font-size: 1.3em;\n",
    "            padding: 14px 30px;\n",
    "            border-radius: 15px;\n",
    "            background: linear-gradient(45deg, #ff416c, #ff4b2b);\n",
    "            color: white;\n",
    "            border: 2px solid black; /* Black border */\n",
    "            cursor: pointer;\n",
    "            transition: all 0.3s ease-in-out;\n",
    "            font-weight: 600;\n",
    "            box-shadow: 3px 3px 10px rgba(0, 0, 0, 0.3);\n",
    "        }\n",
    "        \n",
    "        .gr-button:hover {\n",
    "            background: linear-gradient(45deg, #ff4b2b, #ff416c);\n",
    "            transform: scale(1.08);\n",
    "        }\n",
    "\n",
    "        .image-box {\n",
    "            border: 3px solid black; /* Black border */\n",
    "            border-radius: 12px;\n",
    "            padding: 10px;\n",
    "            box-shadow: 2px 2px 10px rgba(0, 0, 0, 0.2);\n",
    "            background: rgba(255, 255, 255, 0.85);\n",
    "        }\n",
    "\n",
    "        /* Footer Styling */\n",
    "        .footer {\n",
    "            margin-top: 15px;\n",
    "            padding: 10px;\n",
    "            font-size: 1.2em;\n",
    "            font-weight: 500;\n",
    "            color: #444;\n",
    "            border-top: 2px solid black; /* Black top border */\n",
    "            display: flex;\n",
    "            justify-content: space-between;\n",
    "            align-items: center;\n",
    "            text-align: left;\n",
    "        }\n",
    "\n",
    "        .footer-left {\n",
    "            text-align: left;\n",
    "            width: 50%;\n",
    "            padding-left: 20px;\n",
    "        }\n",
    "\n",
    "        .footer-right {\n",
    "            text-align: right;\n",
    "            width: 50%;\n",
    "            padding-right: 20px;\n",
    "            font-style: italic;\n",
    "            font-weight: bold;\n",
    "            color: #ff4b2b;\n",
    "        }\n",
    "    </style>\n",
    "\n",
    "    <div class=\"overlay\"></div> <!-- Overlay for better text visibility -->\n",
    "\n",
    "    <div class=\"gradio-container\">\n",
    "        <h1>🦷 <b>ORTHODONTICS </b> 🦷</h1>\n",
    "        <p><strong>Upload a dental X-ray image, and the AI will analyze it for potential diseases using a YOLO model.</strong></p>\n",
    "    </div>\n",
    "    \"\"\")\n",
    "\n",
    "    with gr.Row():\n",
    "        image_input = gr.Image(type=\"pil\", label=\"🦷📷 Upload Dental X-ray\", elem_classes=\"image-box\")\n",
    "        image_output = gr.Image(type=\"pil\", label=\"🔍 Processed Image with Detections\", elem_classes=\"image-box\")\n",
    "\n",
    "    btn = gr.Button(\"Detect Disease 🦷\", elem_classes=\"gr-button\")\n",
    "    btn.click(predict_dental_disease, inputs=image_input, outputs=image_output)\n",
    "\n",
    "    gr.HTML(\"\"\"\n",
    "    <div class=\"footer\">\n",
    "        <div class=\"footer-left\">\n",
    "            <strong>Made by:</strong> <br>\n",
    "           <strong> Vimal Singh , Shivam Thakur <br>\n",
    "            Kunal Prasad , Rishav Tripathi</strong><br>\n",
    "        </div>\n",
    "        <div class=\"footer-right\">\n",
    "            <strong>Under guidance of:-</strong> <br>\n",
    "            Dr. Satvik Vats\n",
    "        </div>\n",
    "    </div>\n",
    "    \"\"\")\n",
    "\n",
    "\n"
   ]
  },
  {
   "cell_type": "code",
   "execution_count": 55,
   "id": "49a9d218",
   "metadata": {},
   "outputs": [
    {
     "name": "stdout",
     "output_type": "stream",
     "text": [
      "Rerunning server... use `close()` to stop if you need to change `launch()` parameters.\n",
      "----\n",
      "* Running on public URL: https://75e07ac4ff25a80f7c.gradio.live\n",
      "\n",
      "This share link expires in 72 hours. For free permanent hosting and GPU upgrades, run `gradio deploy` from the terminal in the working directory to deploy to Hugging Face Spaces (https://huggingface.co/spaces)\n"
     ]
    },
    {
     "data": {
      "text/html": [
       "<div><iframe src=\"https://75e07ac4ff25a80f7c.gradio.live\" width=\"100%\" height=\"500\" allow=\"autoplay; camera; microphone; clipboard-read; clipboard-write;\" frameborder=\"0\" allowfullscreen></iframe></div>"
      ],
      "text/plain": [
       "<IPython.core.display.HTML object>"
      ]
     },
     "metadata": {},
     "output_type": "display_data"
    },
    {
     "data": {
      "text/plain": []
     },
     "execution_count": 55,
     "metadata": {},
     "output_type": "execute_result"
    },
    {
     "name": "stdout",
     "output_type": "stream",
     "text": [
      "\n",
      "0: 640x480 1 Implant, 90.6ms\n",
      "Speed: 10.2ms preprocess, 90.6ms inference, 0.0ms postprocess per image at shape (1, 3, 640, 480)\n"
     ]
    }
   ],
   "source": [
    "# Launch the Gradio UI\n",
    "iface.launch(share=True)"
   ]
  },
  {
   "cell_type": "code",
   "execution_count": null,
   "id": "882ae8a2",
   "metadata": {},
   "outputs": [],
   "source": []
  }
 ],
 "metadata": {
  "kernelspec": {
   "display_name": "Python 3 (ipykernel)",
   "language": "python",
   "name": "python3"
  },
  "language_info": {
   "codemirror_mode": {
    "name": "ipython",
    "version": 3
   },
   "file_extension": ".py",
   "mimetype": "text/x-python",
   "name": "python",
   "nbconvert_exporter": "python",
   "pygments_lexer": "ipython3",
   "version": "3.10.7"
  }
 },
 "nbformat": 4,
 "nbformat_minor": 5
}
